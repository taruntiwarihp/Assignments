{
 "cells": [
  {
   "cell_type": "code",
   "execution_count": null,
   "metadata": {},
   "outputs": [],
   "source": [
    "1.In the pre-smartphone era,each number key is assigned a subset of the alphabet {a,b,…,z}.\n",
    "\n",
    "- 2 is assigned {a,b,c}, \n",
    "- 3 is assigned {d,e,f} \n",
    "- 4 is assigned {g,h,i} \n",
    "- 5 is assigned {j,k,l}\n",
    "- 6 is assigned {m,n,o} \n",
    "- 7 is assigned {p,q,r,s}\n",
    "- 8 is assigned {t,u,v} \n",
    "- 9 is assigned {w,x,y,z}\n",
    "\n",
    "Write a function numbers_to_chars() to find the characters generated using key 9999335533. Output should be \"zeke\"\n",
    "\n",
    "Function Name : numbers_to_chars() Input : Integer number sequence Output : Str"
   ]
  },
  {
   "cell_type": "code",
   "execution_count": null,
   "metadata": {},
   "outputs": [],
   "source": [
    "def numbers_to_chars(n):\n",
    "    lis=[]\n",
    "    num=str(n)\n",
    "    for i in num:\n",
    "        lis.append(int(i))\n",
    "    print(lis)\n",
    "    count=0\n",
    "    l={2:['a','b','c'],3:['d','e','f'],4:['g','h','i'],5:['j','k','l'],6:['m','n','o'],7:['p','q','r','s'],8:['t','u','v'],9:['w','x','y','z']}\n",
    "    print(l)\n",
    "    count=0\n",
    "    check=lis[0]\n",
    "    for i in range(len(lis)):\n",
    "        for key,value in l.items():\n",
    "            if lis[i] == key:\n",
    "                print(value[i])\n",
    "\n",
    "l=9999335533\n",
    "print(numbers_to_chars(l))"
   ]
  },
  {
   "cell_type": "code",
   "execution_count": null,
   "metadata": {},
   "outputs": [],
   "source": [
    "2.Given a dict of tickets(\"to\":\"from\")\n",
    "\n",
    "{\"Chennai\":\"Banglore\",\"Bombay\":\"Delhi\",\"Goa\":\"Chennai\",\"Delhi\":\"Goa\"} find out the sequence of travel.\n",
    "\n",
    "Expected Output : Bombay->Delhi, Delhi->Goa, Goa->Chennai, Chennai->Banglore\n",
    "\n",
    "Function Name : travel_sequence Input : dict Output : dict"
   ]
  },
  {
   "cell_type": "code",
   "execution_count": null,
   "metadata": {},
   "outputs": [],
   "source": [
    "def travel_sequence(tickets):   \n",
    "    dub=tickets.copy()\n",
    "    seq={}\n",
    "    for key,value in tickets.items():\n",
    "            if key not in dub.values():\n",
    "                seq[key]=value\n",
    "                break\n",
    "\n",
    "    for key,value in seq.items():\n",
    "         for key1,value1 in tickets.items():\n",
    "                if value==key1:\n",
    "                    seq.setdefault(key1,value1)\n",
    "                    return seq\n",
    "tickets={\"Chennai\":\"Banglore\",\"Bombay\":\"Delhi\",\"Goa\":\"Chennai\",\"Delhi\":\"Goa\"}\n",
    "print(travel_sequence(tickets))"
   ]
  },
  {
   "cell_type": "code",
   "execution_count": null,
   "metadata": {},
   "outputs": [],
   "source": [
    "3.Given a dictionary that associates the names of states with a list of the names of cities that appear in it,write a program that creates a new dictionary that associates the name of a city with the list of states that it appears in.\n",
    "\n",
    "As an example, if the first dictionary is\n",
    "\n",
    "Input : states = {'New Hampshire': ['Concord', 'Hanover'],\n",
    "\n",
    "'Massachusetts': ['Boston', 'Concord', 'Springfield'],\n",
    "\n",
    "'Illinois': ['Chicago', 'Springfield', 'Peoria'] }\n",
    "\n",
    "Output:\n",
    "\n",
    "cities = {'Hanover': ['New Hampshire'],\n",
    "\n",
    "'Chicago': ['Illinois'],'Boston': ['Massachusetts'],\n",
    "\n",
    "'Peoria': ['Illinois'],'Concord': ['New Hampshire','Massachusetts'],\n",
    "\n",
    "'Springfield': ['Massachusetts', 'Illinois'] }\n",
    "\n",
    "Function Name : city_with_states Input : dict Output : dict\n",
    "\n"
   ]
  },
  {
   "cell_type": "code",
   "execution_count": null,
   "metadata": {},
   "outputs": [],
   "source": [
    "def city_with_states(states):\n",
    "    city={}\n",
    "    dub=states.copy()\n",
    "    for key,value in states.items():\n",
    "        for key1,value1 in states.items():\n",
    "            for i in range(len(value)):\n",
    "                if value == value1:\n",
    "                    city[value]=[[key,key1]]\n",
    "                else:\n",
    "                    city[value]=[key]\n",
    "states = {'New Hampshire': ['Concord', 'Hanover'],\n",
    "        'Massachusetts': ['Boston', 'Concord', 'Springfield'],\n",
    "        'Illinois': ['Chicago', 'Springfield', 'Peoria'] }\n",
    "print(city_with_states(states))"
   ]
  },
  {
   "cell_type": "code",
   "execution_count": null,
   "metadata": {},
   "outputs": [],
   "source": [
    "4.How do you check if a given String contains valid parentheses? Given a string containing just the characters '(', ')', '{', '}',\n",
    "'[' and ']', write a program in python to check if the input string is valid. The brackets must close in the correct order, \"()\"\n",
    "and \"()[]{}\" are all valid but \"(]\" and \"([)]\" are not.\n",
    "\n",
    "Function Name : check_parentheses Input : str Output : True/False"
   ]
  },
  {
   "cell_type": "code",
   "execution_count": null,
   "metadata": {},
   "outputs": [],
   "source": [
    "def check_parentheses(expr) :  \n",
    "    s = [];  \n",
    "    for i in range(len(expr)) : \n",
    "        if (expr[i] == '(' or \n",
    "            expr[i] == '[' or expr[i] == '{') : \n",
    "            s.append(expr[i]);  \n",
    "            continue;   \n",
    "        if (len(s) == 0) : \n",
    "            return False;  \n",
    "        if expr[i] == ')' :  \n",
    "            x = s.pop(); \n",
    "            if (x == '{' or x == '[') : \n",
    "                return False;  \n",
    "        elif expr[i] == '}':  \n",
    "            x = s.pop();\n",
    "            if (x == '(' or x == '[') : \n",
    "                return False;  \n",
    "        elif x == ']':   \n",
    "            x = s.pop(); \n",
    "            if (x =='(' or x == '{') : \n",
    "                return False;   \n",
    "    if len(s) : \n",
    "        return True\n",
    "    else : \n",
    "        return False\n",
    "\n",
    "expr = \"{()}[]\";  \n",
    "print(check_parentheses(expr))"
   ]
  },
  {
   "cell_type": "code",
   "execution_count": null,
   "metadata": {},
   "outputs": [],
   "source": [
    "5.Write a program to convert Integer to Roman String. For example, if a given integer is 5 then your program should print \"V\".\n",
    "\n",
    "Function Name : int_roman Input : int Output : str"
   ]
  },
  {
   "cell_type": "code",
   "execution_count": 19,
   "metadata": {},
   "outputs": [
    {
     "name": "stdout",
     "output_type": "stream",
     "text": [
      "MMMDXLIX\n"
     ]
    }
   ],
   "source": [
    "def int_roman(number): \n",
    "    st=\"\"\n",
    "    num = [1, 4, 5, 9, 10, 40, 50, 90,  \n",
    "           100, 400, 500, 900, 1000] \n",
    "    sym = [\"I\", \"IV\", \"V\", \"IX\", \"X\", \"XL\",  \n",
    "           \"L\", \"XC\", \"C\", \"CD\", \"D\", \"CM\", \"M\"] \n",
    "    i = 12\n",
    "    while number: \n",
    "        div = number // num[i] \n",
    "        \n",
    "        number %= num[i] \n",
    "  \n",
    "        while div: \n",
    "            st+= sym[i]\n",
    "            div -= 1\n",
    "        i -= 1\n",
    "    return st\n",
    "number = 5\n",
    "print(int_roman(number))"
   ]
  },
  {
   "cell_type": "code",
   "execution_count": null,
   "metadata": {},
   "outputs": [],
   "source": [
    "6.Write a program utility that counts the number of lines of actual python code in a. For the purpose of this exercise, a line \n",
    "is counted if it contains something other than whitespace or text in a comment.\n",
    "\n",
    "remember that comment start sequences that appear inside python strings should be ignored.\n",
    "\n",
    "Function Name : count_code_lines Input : str Output : int"
   ]
  },
  {
   "cell_type": "code",
   "execution_count": null,
   "metadata": {},
   "outputs": [],
   "source": [
    "input_code = \"\"\"\n",
    "#Linear search implementation\n",
    "#Takes list and a key as input and returns True or False as answer\n",
    "def linear_saerch(l,key):\n",
    "    for value in l:\n",
    "        if key == value:\n",
    "            return True #Return True is key exist\n",
    "    else:\n",
    "        return False #Return False if key does not exist\n",
    "\n",
    "l = [100,200,300,400,500,600]\n",
    "key = 500\n",
    "result = linear_search(l,key)\n",
    "print(result)\n",
    "\"\"\""
   ]
  },
  {
   "cell_type": "code",
   "execution_count": 60,
   "metadata": {},
   "outputs": [
    {
     "data": {
      "text/plain": [
       "12"
      ]
     },
     "execution_count": 60,
     "metadata": {},
     "output_type": "execute_result"
    }
   ],
   "source": [
    "def count_code_lines(st):\n",
    "    fp = open(\"txt.txt\",\"w\")\n",
    "    fp.write(st)\n",
    "    fp.close()\n",
    "    fp=open(\"txt.txt\",\"r\")\n",
    "    counter = 0\n",
    "    for line in fp.readlines():\n",
    "        if (line[0] != \"#\") and (line[0:] != '\\s'):\n",
    "            counter+=10\n",
    "            \n",
    "    return counter        \n",
    "        \n",
    "    \n",
    "st = \"\"\"\n",
    "#Linear search implementation\n",
    "#Takes list and a key as input and returns True or False as answer\n",
    "def linear_saerch(l,key):\n",
    "    for value in l:\n",
    "        if key == value:\n",
    "            return True #Return True is key exist\n",
    "    else:\n",
    "        return False #Return False if key does not exist\n",
    "\n",
    "l = [100,200,300,400,500,600]\n",
    "key = 500\n",
    "result = linear_search(l,key)\n",
    "print(result)\n",
    "\"\"\"\n",
    "count_code_lines(st)"
   ]
  },
  {
   "cell_type": "code",
   "execution_count": 1,
   "metadata": {},
   "outputs": [],
   "source": [
    "7.Write a program to check the strength of a supplied password\n",
    "\n",
    "The length of the password must be at least 8 characters in length The password must contain at least 1 capital letter The password must contain at least 1 digit The password must contain at least 1 special character and allowed special characters are (!,@,#,$,&)\n",
    "\n",
    "We need to provide feedback to the user about the strength of their password\n",
    "\n",
    "Provide the user with a list of reasons why their password is 'weak'\n",
    "Function Name : check_password_strength Input : str Output : tuple (str,list) eg (\"Weak\",[\"The password must contain at least 1 capital letter\"])"
   ]
  },
  {
   "cell_type": "code",
   "execution_count": null,
   "metadata": {},
   "outputs": [],
   "source": [
    "import re\n",
    "def check_password_strength(s):\n",
    "    while True:   \n",
    "        if (len(s)<8): \n",
    "            return (\"week\",['the lenght of Password is week'])\n",
    "            break\n",
    "        elif not re.search(\"[a-z]\",s): \n",
    "            return (\"week\",[\"Password must contain 1 lower case\"])\n",
    "            break\n",
    "        elif not re.search(\"[A-Z]\", s): \n",
    "            return (\"week\",[\"Password must contain 1 upper case\"])\n",
    "            break\n",
    "        elif not re.search(\"[0-9]\", s): \n",
    "            return (\"week\",[\"Password must contain 1 number letter\"])\n",
    "            break\n",
    "        elif not re.search(\"[!,@,#,$,&]\",s): \n",
    "            return (\"week\",[\"Password must contain 1 special letter\"])\n",
    "            break\n",
    "        elif re.search(\"\\s\", s): \n",
    "            return (\"week\",[\"Password must't contain space\"])\n",
    "            break\n",
    "        else: \n",
    "            flag = 0\n",
    "            return \"Valid Password\"\n",
    "            break  \n",
    "s = input(\"enter an password\")\n",
    "print(check_password_strength(s))"
   ]
  },
  {
   "cell_type": "code",
   "execution_count": null,
   "metadata": {},
   "outputs": [],
   "source": [
    "8.Check if given sentence is syntactically correct or not\n",
    "A simple sentence if syntactically correct if it fulfills given rules. The following are given rules.\n",
    "\n",
    "Sentence must start with a Uppercase character (e.g. Noun/ I/ We/ He etc.)\n",
    "There must be spaces between words.\n",
    "Then the sentence must end with a full stop(.).\n",
    "Two continuous spaces are not allowed.\n",
    "Two continuous uppercase characters are not allowed.\n",
    "However the sentence can end after an uppercase character.\n",
    "Function Name : check_sentence Input : str Output : tuple (True/False,list) eg (False,[\"There must be spaces between words.\"])"
   ]
  },
  {
   "cell_type": "code",
   "execution_count": 21,
   "metadata": {},
   "outputs": [
    {
     "ename": "SyntaxError",
     "evalue": "Missing parentheses in call to 'print'. Did you mean print(\"\\\" +  string[i] + \"\\\" is correct\")? (<ipython-input-21-f0b1cb31676e>, line 34)",
     "output_type": "error",
     "traceback": [
      "\u001b[1;36m  File \u001b[1;32m\"<ipython-input-21-f0b1cb31676e>\"\u001b[1;36m, line \u001b[1;32m34\u001b[0m\n\u001b[1;33m    print \"\\\" +  string[i] + \"\\\" is correct\"\u001b[0m\n\u001b[1;37m                             ^\u001b[0m\n\u001b[1;31mSyntaxError\u001b[0m\u001b[1;31m:\u001b[0m Missing parentheses in call to 'print'. Did you mean print(\"\\\" +  string[i] + \"\\\" is correct\")?\n"
     ]
    }
   ],
   "source": [
    "# def checkSentence(string): \n",
    "#     length = len(string) \n",
    "#     if string[0] < 'A' or string[0] > 'Z': \n",
    "#         return False\n",
    "#     if string[length-1] != '.': \n",
    "#         return False\n",
    "#     prev_state = 0\n",
    "#     curr_state = 0\n",
    "#     index = 1\n",
    "#     while (string[index]): \n",
    "#         if string[index] >= 'A' and string[index] <= 'Z': \n",
    "#             curr_state = 0\n",
    "#         elif string[index] == ' ': \n",
    "#             curr_state = 1\n",
    "#         elif string[index] >= 'a' and string[index] <= 'z': \n",
    "#             curr_state = 2 \n",
    "#         elif string[index] == '.': \n",
    "#             curr_state = 3\n",
    "#         if prev_state == curr_state and curr_state != 2: \n",
    "#             return False\n",
    "#         if prev_state == 2 and curr_state == 0: \n",
    "#             return False\n",
    "#         if curr_state == 3 and prev_state != 1: \n",
    "#             return True\n",
    "#         index += 1\n",
    "#         prev_state = curr_state \n",
    "#     return False\n",
    "\n",
    "\n",
    "# string = [\"Python is easy to learn\"] \n",
    "# string_size = len(string) \n",
    "# for i in xrange(string_size): \n",
    "#     if checkSentence(string[i]): \n",
    "#         print \"\\\" +  string[i] + \"\\\" is correct\"\n",
    "#     else: \n",
    "#         print \"\\\" + string[i] + \"\\\" isincorrect\""
   ]
  },
  {
   "cell_type": "code",
   "execution_count": null,
   "metadata": {},
   "outputs": [],
   "source": [
    "9.Given an array arr[] of integers and an integer K, the task is to find the greatest contiguous sub-array of size K.\n",
    "\n",
    "Sub-array X is said to be greater than sub-array Y if the first non-matching element in both the sub-arrays has a greater value in X than in Y.\n",
    "\n",
    "For example : Input: arr[] = {1, 4, 3, 2, 5}, K = 4 Output: 4 3 2 5 Two subarrays are {1, 4, 3, 2} and {4, 3, 2, 5}. First\n",
    "non-matching element from array1 and array 2 : 1 and 4 as 4 is greater Hence, the greater one is {4, 3, 2, 5}\n",
    "\n",
    "Function Name : greatest_sub_array() Input : list Output : list"
   ]
  },
  {
   "cell_type": "code",
   "execution_count": null,
   "metadata": {},
   "outputs": [],
   "source": []
  },
  {
   "cell_type": "code",
   "execution_count": null,
   "metadata": {},
   "outputs": [],
   "source": [
    "10.Given a list of N integers. The task is to eliminate the minimum number of elements such that in the resulting list the sum \n",
    "of any two adjacent values is even.\n",
    "\n",
    "Numbers = [1, 3, 5, 4, 2] Output = [1, 3, 5] Total elements removed 2 Elements to be removed [4,2]\n",
    "\n",
    "Function Name : adj_sum_even() Input : list Output : tuple(int,list)"
   ]
  },
  {
   "cell_type": "code",
   "execution_count": null,
   "metadata": {},
   "outputs": [],
   "source": [
    "def adj_sum_even(l1): \n",
    "    ne_s = []\n",
    "    for i in range(len(l1)):\n",
    "        if i == len(l1)-1:\n",
    "            break\n",
    "        if (l1[i]+l1[i+1])%2 !=0:\n",
    "            \n",
    "            ne_s.append(l1[i])\n",
    "            ne_s.append(l1[i+1])\n",
    "        \n",
    "    return ne_s \n",
    "l1 = [1,3,5,4,2]\n",
    "print(adj_sum_even(l1))"
   ]
  }
 ],
 "metadata": {
  "kernelspec": {
   "display_name": "Python 3",
   "language": "python",
   "name": "python3"
  },
  "language_info": {
   "codemirror_mode": {
    "name": "ipython",
    "version": 3
   },
   "file_extension": ".py",
   "mimetype": "text/x-python",
   "name": "python",
   "nbconvert_exporter": "python",
   "pygments_lexer": "ipython3",
   "version": "3.7.4"
  }
 },
 "nbformat": 4,
 "nbformat_minor": 2
}
