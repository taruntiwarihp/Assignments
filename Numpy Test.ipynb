{
 "cells": [
  {
   "cell_type": "code",
   "execution_count": 1,
   "metadata": {},
   "outputs": [],
   "source": [
    "import numpy as np"
   ]
  },
  {
   "cell_type": "code",
   "execution_count": null,
   "metadata": {},
   "outputs": [],
   "source": [
    "1. Count The Number Of Times Each Value Appears In An Array Of Integers"
   ]
  },
  {
   "cell_type": "code",
   "execution_count": 9,
   "metadata": {},
   "outputs": [
    {
     "name": "stdout",
     "output_type": "stream",
     "text": [
      "[[16 11 15]\n",
      " [13  0 19]\n",
      " [ 4  0  5]]\n"
     ]
    },
    {
     "data": {
      "text/plain": [
       "7"
      ]
     },
     "execution_count": 9,
     "metadata": {},
     "output_type": "execute_result"
    }
   ],
   "source": [
    "x=0\n",
    "array=np.random.randint(20,size=(3,3))\n",
    "print(array)\n",
    "np.count_nonzero(array)"
   ]
  },
  {
   "cell_type": "code",
   "execution_count": null,
   "metadata": {},
   "outputs": [],
   "source": [
    "2. Given 9 Integers. You have to convert them into 3*3 Numpy array using Reshape function."
   ]
  },
  {
   "cell_type": "code",
   "execution_count": 16,
   "metadata": {},
   "outputs": [
    {
     "name": "stdout",
     "output_type": "stream",
     "text": [
      "[4 5 8 7 1 5 4 2 6]\n",
      "[[4 5 8]\n",
      " [7 1 5]\n",
      " [4 2 6]]\n"
     ]
    }
   ],
   "source": [
    "array=np.random.randint(0,9,9)\n",
    "print(array)\n",
    "a=np.reshape(array,(3,3))\n",
    "print(a)"
   ]
  },
  {
   "cell_type": "code",
   "execution_count": null,
   "metadata": {},
   "outputs": [],
   "source": [
    "3. How to find the memory size of any array"
   ]
  },
  {
   "cell_type": "code",
   "execution_count": 24,
   "metadata": {},
   "outputs": [
    {
     "data": {
      "text/plain": [
       "100"
      ]
     },
     "execution_count": 24,
     "metadata": {},
     "output_type": "execute_result"
    }
   ],
   "source": [
    "array=np.random.randint(99,size=(5,5))\n",
    "array.nbytes"
   ]
  },
  {
   "cell_type": "code",
   "execution_count": null,
   "metadata": {},
   "outputs": [],
   "source": [
    "4. Create a 2d array of size 10 by 10 with 1 on the border and 0 inside."
   ]
  },
  {
   "cell_type": "code",
   "execution_count": 23,
   "metadata": {},
   "outputs": [
    {
     "name": "stdout",
     "output_type": "stream",
     "text": [
      "[[1. 1. 1. 1. 1. 1. 1. 1. 1. 1.]\n",
      " [1. 0. 0. 0. 0. 0. 0. 0. 0. 1.]\n",
      " [1. 0. 0. 0. 0. 0. 0. 0. 0. 1.]\n",
      " [1. 0. 0. 0. 0. 0. 0. 0. 0. 1.]\n",
      " [1. 0. 0. 0. 0. 0. 0. 0. 0. 1.]\n",
      " [1. 0. 0. 0. 0. 0. 0. 0. 0. 1.]\n",
      " [1. 0. 0. 0. 0. 0. 0. 0. 0. 1.]\n",
      " [1. 0. 0. 0. 0. 0. 0. 0. 0. 1.]\n",
      " [1. 0. 0. 0. 0. 0. 0. 0. 0. 1.]\n",
      " [1. 1. 1. 1. 1. 1. 1. 1. 1. 1.]]\n"
     ]
    }
   ],
   "source": [
    "array=np.ones((10,10))\n",
    "array[1:-1,1:-1]=0\n",
    "print(array)"
   ]
  },
  {
   "cell_type": "code",
   "execution_count": null,
   "metadata": {},
   "outputs": [],
   "source": [
    "5.Create a 8x8 matrix and fill it with a checkerboard pattern."
   ]
  },
  {
   "cell_type": "code",
   "execution_count": 25,
   "metadata": {},
   "outputs": [
    {
     "name": "stdout",
     "output_type": "stream",
     "text": [
      "Checkerboard pattern:\n",
      "[[0 1 0 1 0 1 0 1]\n",
      " [1 0 1 0 1 0 1 0]\n",
      " [0 1 0 1 0 1 0 1]\n",
      " [1 0 1 0 1 0 1 0]\n",
      " [0 1 0 1 0 1 0 1]\n",
      " [1 0 1 0 1 0 1 0]\n",
      " [0 1 0 1 0 1 0 1]\n",
      " [1 0 1 0 1 0 1 0]]\n"
     ]
    }
   ],
   "source": [
    "print(\"Checkerboard pattern:\")\n",
    "x = np.zeros((8,8),dtype=int)\n",
    "x[1::2,::2] = 1\n",
    "x[::2,1::2] = 1\n",
    "print(x)"
   ]
  },
  {
   "cell_type": "code",
   "execution_count": null,
   "metadata": {},
   "outputs": [],
   "source": [
    "6. Normalize a 5x5 random matrix."
   ]
  },
  {
   "cell_type": "code",
   "execution_count": 29,
   "metadata": {},
   "outputs": [
    {
     "name": "stdout",
     "output_type": "stream",
     "text": [
      "[[-1.56098452  1.26643569  0.14789583  1.42178845  1.3907179 ]\n",
      " [ 1.14215348 -0.62886797  1.26643569 -1.56098452  0.6139541 ]\n",
      " [-1.56098452 -0.87743238  0.80037741 -1.56098452 -0.84636183]\n",
      " [ 0.30324858  0.6139541   0.67609521 -0.53565631 -0.25602135]\n",
      " [-1.00171459 -0.53565631  1.08001238  0.33431914 -0.13173914]]\n"
     ]
    }
   ],
   "source": [
    "a=np.random.randint(99,size=(5,5))\n",
    "print(((a-np.mean(a))/np.std(a)))"
   ]
  },
  {
   "cell_type": "code",
   "execution_count": null,
   "metadata": {},
   "outputs": [],
   "source": [
    "7. Given a 1D array in range(0,11), negate all elements which are between 3 and 8, in place."
   ]
  },
  {
   "cell_type": "code",
   "execution_count": 45,
   "metadata": {},
   "outputs": [
    {
     "name": "stdout",
     "output_type": "stream",
     "text": [
      "[ 0  1  2  3  4  5  6  7  8  9 10]\n"
     ]
    },
    {
     "data": {
      "text/plain": [
       "array([[[-3, -4, -5, -6, -7, -8]]], dtype=int64)"
      ]
     },
     "execution_count": 45,
     "metadata": {},
     "output_type": "execute_result"
    }
   ],
   "source": [
    "array=np.arange(0,11,)\n",
    "print(array)\n",
    "new = [np.where(np.logical_and(array>=3, array<=8))]\n",
    "np.negative(new)"
   ]
  },
  {
   "cell_type": "code",
   "execution_count": null,
   "metadata": {},
   "outputs": [],
   "source": [
    "8. How to get the dates of yesterday, today and tomorrow?"
   ]
  },
  {
   "cell_type": "code",
   "execution_count": 37,
   "metadata": {},
   "outputs": [
    {
     "name": "stdout",
     "output_type": "stream",
     "text": [
      "2020-02-13\n",
      "2020-02-14\n",
      "2020-02-15\n"
     ]
    }
   ],
   "source": [
    "from datetime import date\n",
    "from datetime import timedelta\n",
    "today=date.today()\n",
    "yesterday=today-timedelta(days=1)\n",
    "tomorrow=today+timedelta(days=1)\n",
    "print(yesterday)\n",
    "print(today)\n",
    "print(tomorrow)"
   ]
  },
  {
   "cell_type": "code",
   "execution_count": null,
   "metadata": {},
   "outputs": [],
   "source": [
    "9. Generate two arrays of size 2X4 & 3X3, find difference between them."
   ]
  },
  {
   "cell_type": "code",
   "execution_count": null,
   "metadata": {},
   "outputs": [],
   "source": []
  },
  {
   "cell_type": "code",
   "execution_count": null,
   "metadata": {},
   "outputs": [],
   "source": [
    "10. Given 1d array of ['cat','dog','rat'], genrate 100 elements of 1d array consisting of the above 3 value ?"
   ]
  },
  {
   "cell_type": "code",
   "execution_count": 56,
   "metadata": {},
   "outputs": [
    {
     "ename": "TypeError",
     "evalue": "ufunc 'subtract' did not contain a loop with signature matching types dtype('<U3') dtype('<U3') dtype('<U3')",
     "output_type": "error",
     "traceback": [
      "\u001b[1;31m---------------------------------------------------------------------------\u001b[0m",
      "\u001b[1;31mTypeError\u001b[0m                                 Traceback (most recent call last)",
      "\u001b[1;32m<ipython-input-56-2dc5f158d8f6>\u001b[0m in \u001b[0;36m<module>\u001b[1;34m\u001b[0m\n\u001b[0;32m      3\u001b[0m \u001b[1;31m# num=np.array.randint(array,size=(1,100))\u001b[0m\u001b[1;33m\u001b[0m\u001b[1;33m\u001b[0m\u001b[1;33m\u001b[0m\u001b[0m\n\u001b[0;32m      4\u001b[0m \u001b[1;31m# print(num)\u001b[0m\u001b[1;33m\u001b[0m\u001b[1;33m\u001b[0m\u001b[1;33m\u001b[0m\u001b[0m\n\u001b[1;32m----> 5\u001b[1;33m \u001b[0mnp\u001b[0m\u001b[1;33m.\u001b[0m\u001b[0marange\u001b[0m\u001b[1;33m(\u001b[0m\u001b[0marr\u001b[0m\u001b[1;33m)\u001b[0m\u001b[1;33m.\u001b[0m\u001b[0mreshape\u001b[0m\u001b[1;33m(\u001b[0m\u001b[1;36m1\u001b[0m\u001b[1;33m,\u001b[0m\u001b[1;36m100\u001b[0m\u001b[1;33m)\u001b[0m\u001b[1;33m\u001b[0m\u001b[1;33m\u001b[0m\u001b[0m\n\u001b[0m",
      "\u001b[1;31mTypeError\u001b[0m: ufunc 'subtract' did not contain a loop with signature matching types dtype('<U3') dtype('<U3') dtype('<U3')"
     ]
    }
   ],
   "source": [
    "arr=np.array(['cat','dog','rat'])\n",
    "# print(array)\n",
    "# num=np.array.randint(array,size=(1,100))\n",
    "# print(num)\n",
    "np.arange(arr).reshape(1,100)"
   ]
  },
  {
   "cell_type": "code",
   "execution_count": null,
   "metadata": {},
   "outputs": [],
   "source": [
    "11. Create a vector of size 10 with values ranging from 0 to 1, both excluded without manually deducing the values"
   ]
  },
  {
   "cell_type": "code",
   "execution_count": 57,
   "metadata": {},
   "outputs": [
    {
     "name": "stdout",
     "output_type": "stream",
     "text": [
      "[0.09090909 0.18181818 0.27272727 0.36363636 0.45454545 0.54545455\n",
      " 0.63636364 0.72727273 0.81818182 0.90909091]\n"
     ]
    }
   ],
   "source": [
    "arr = np.linspace(0,1,12,endpoint=True)[1:-1]\n",
    "print(arr)"
   ]
  },
  {
   "cell_type": "code",
   "execution_count": null,
   "metadata": {},
   "outputs": [],
   "source": [
    "12. Given a two dimensional array, how to extract unique rows?"
   ]
  },
  {
   "cell_type": "code",
   "execution_count": 61,
   "metadata": {},
   "outputs": [
    {
     "name": "stdout",
     "output_type": "stream",
     "text": [
      "[[1 0 0 0 0]\n",
      " [1 1 0 1 0]\n",
      " [0 1 1 1 0]\n",
      " [0 1 0 0 0]\n",
      " [1 0 1 0 1]]\n",
      "[[0 1 0 0 0]\n",
      " [0 1 1 1 0]\n",
      " [1 0 0 0 0]\n",
      " [1 0 1 0 1]\n",
      " [1 1 0 1 0]]\n"
     ]
    }
   ],
   "source": [
    "arr=np.random.randint(2,size=(5,5))\n",
    "print(arr)\n",
    "new_arr=np.unique(arr, axis=0)\n",
    "print(new_arr)"
   ]
  },
  {
   "cell_type": "code",
   "execution_count": null,
   "metadata": {},
   "outputs": [],
   "source": [
    "13. Create a structured array with x and y coordinates covering the [0,1]x[0,1] area"
   ]
  },
  {
   "cell_type": "code",
   "execution_count": 67,
   "metadata": {},
   "outputs": [
    {
     "name": "stdout",
     "output_type": "stream",
     "text": [
      "[[(0. , 0. ) (0.5, 0. ) (1. , 0. )]\n",
      " [(0. , 0.5) (0.5, 0.5) (1. , 0.5)]\n",
      " [(0. , 1. ) (0.5, 1. ) (1. , 1. )]]\n"
     ]
    }
   ],
   "source": [
    "arry = np.zeros((3,3), [('x',float),('y',float)])\n",
    "arry['x'], arry['y'] = np.meshgrid(np.linspace(0,1,3),np.linspace(0,1,3))\n",
    "print(arry)"
   ]
  },
  {
   "cell_type": "code",
   "execution_count": null,
   "metadata": {},
   "outputs": [],
   "source": [
    "14. How to find the closest value (to a given scalar) in a vector?"
   ]
  },
  {
   "cell_type": "code",
   "execution_count": 66,
   "metadata": {},
   "outputs": [
    {
     "name": "stdout",
     "output_type": "stream",
     "text": [
      "[0.76801692 0.92562852 0.14651353 0.78300149 0.8393021  0.68763644\n",
      " 0.56309252 0.8292353  0.03593654 0.73135128] \n",
      " 0.5630925159077573 \n",
      " 0.5\n"
     ]
    }
   ],
   "source": [
    "value = 0.5\n",
    "array = np.random.random(10)\n",
    "array = np.asarray(array)\n",
    "idx = (np.abs(array - value)).argmin()\n",
    "ans = array[idx]\n",
    "print(array,\"\\n\",ans,\"\\n\",value)"
   ]
  },
  {
   "cell_type": "code",
   "execution_count": null,
   "metadata": {},
   "outputs": [],
   "source": [
    "15. Consider a random vector with shape (10,2) representing coordinates, find point by point distances. Use euclidian distance."
   ]
  },
  {
   "cell_type": "code",
   "execution_count": 69,
   "metadata": {},
   "outputs": [
    {
     "name": "stdout",
     "output_type": "stream",
     "text": [
      "[[0.         0.60787781 0.56871452 0.53177035 0.56622181 0.54786736\n",
      "  0.47523579 0.53637365 0.46234385 0.50802135]\n",
      " [0.60787781 0.         0.45599523 0.8425649  0.13811031 0.09058967\n",
      "  0.17852395 0.74670168 0.91693843 0.4177894 ]\n",
      " [0.56871452 0.45599523 0.         0.46333584 0.31823075 0.37060036\n",
      "  0.30717769 0.34064955 0.61077301 0.06554127]\n",
      " [0.53177035 0.8425649  0.46333584 0.         0.72244952 0.75258446\n",
      "  0.66433592 0.12935991 0.20276546 0.45873041]\n",
      " [0.56622181 0.13811031 0.31823075 0.72244952 0.         0.06246923\n",
      "  0.09099287 0.61963058 0.81509582 0.28303647]\n",
      " [0.54786736 0.09058967 0.37060036 0.75258446 0.06246923 0.\n",
      "  0.09027242 0.656112   0.83158356 0.32913249]\n",
      " [0.47523579 0.17852395 0.30717769 0.66433592 0.09099287 0.09027242\n",
      "  0.         0.57118905 0.74138225 0.25688199]\n",
      " [0.53637365 0.74670168 0.34064955 0.12935991 0.61963058 0.656112\n",
      "  0.57118905 0.         0.31698982 0.34445424]\n",
      " [0.46234385 0.91693843 0.61077301 0.20276546 0.81509582 0.83158356\n",
      "  0.74138225 0.31698982 0.         0.58813404]\n",
      " [0.50802135 0.4177894  0.06554127 0.45873041 0.28303647 0.32913249\n",
      "  0.25688199 0.34445424 0.58813404 0.        ]]\n"
     ]
    }
   ],
   "source": [
    "a= np.random.random((10,2))\n",
    "x,y = np.atleast_2d(a[:,0], a[:,1])\n",
    "d = np.sqrt( (x-x.T)**2 + (y-y.T)**2)\n",
    "print(d)"
   ]
  },
  {
   "cell_type": "code",
   "execution_count": null,
   "metadata": {},
   "outputs": [],
   "source": [
    "16. How to sort an array by the nth column?"
   ]
  },
  {
   "cell_type": "code",
   "execution_count": null,
   "metadata": {},
   "outputs": [],
   "source": []
  },
  {
   "cell_type": "code",
   "execution_count": null,
   "metadata": {},
   "outputs": [],
   "source": [
    "17.How to tell if a given 2D array has null columns?"
   ]
  },
  {
   "cell_type": "code",
   "execution_count": 81,
   "metadata": {},
   "outputs": [
    {
     "name": "stdout",
     "output_type": "stream",
     "text": [
      "True\n"
     ]
    }
   ],
   "source": [
    "Z = np.random.randint(0,3,(3,10)).astype(float)\n",
    "Z[:,0] = np.nan\n",
    "G = np.isnan(Z)\n",
    "print((G.all(axis=0)).any())"
   ]
  },
  {
   "cell_type": "code",
   "execution_count": null,
   "metadata": {},
   "outputs": [],
   "source": [
    "18. Considering a two dimensions array, how to get sum over the last two columns at once?"
   ]
  },
  {
   "cell_type": "code",
   "execution_count": 82,
   "metadata": {},
   "outputs": [
    {
     "name": "stdout",
     "output_type": "stream",
     "text": [
      "[[8 6 4 5 8]\n",
      " [7 6 2 8 2]\n",
      " [3 1 4 2 4]\n",
      " [9 3 1 8 8]\n",
      " [8 1 7 7 1]]\n",
      "53\n"
     ]
    }
   ],
   "source": [
    "arry= np.random.randint(1,10,(5,5))\n",
    "print(arry)\n",
    "print(np.sum(arry[0:,3:]))"
   ]
  },
  {
   "cell_type": "code",
   "execution_count": null,
   "metadata": {},
   "outputs": [],
   "source": [
    "19. Given a 2d array of 5X5, increment 1st column by 1, second column by 2, 3rd column by 3 & so on till the last column"
   ]
  },
  {
   "cell_type": "code",
   "execution_count": 85,
   "metadata": {},
   "outputs": [
    {
     "name": "stdout",
     "output_type": "stream",
     "text": [
      "[[60 30 57  0 81]\n",
      " [15  3 62 33 69]\n",
      " [81 59 90 39 33]\n",
      " [33 38 93 48 42]\n",
      " [44 11 73 87 85]]\n",
      "[[61 32 60  4 86]\n",
      " [16  5 65 37 74]\n",
      " [82 61 93 43 38]\n",
      " [34 40 96 52 47]\n",
      " [45 13 76 91 90]]\n"
     ]
    }
   ],
   "source": [
    "arr=np.random.randint(99,size=(5,5))\n",
    "print(arr)\n",
    "for i in range(5):\n",
    "    arr[:,i]+=(i+1)\n",
    "print(arr)"
   ]
  },
  {
   "cell_type": "code",
   "execution_count": null,
   "metadata": {},
   "outputs": [],
   "source": [
    "20. Given a 1d array(size 100) of boolean values, identify total number of True in it."
   ]
  },
  {
   "cell_type": "code",
   "execution_count": 87,
   "metadata": {},
   "outputs": [
    {
     "name": "stdout",
     "output_type": "stream",
     "text": [
      "[ True False False  True  True  True  True False False False False  True\n",
      "  True False  True False False  True False  True  True False  True False\n",
      "  True False False False  True  True  True False False False  True False\n",
      " False False False False False  True False False False  True  True  True\n",
      " False False  True  True  True False  True False False False False  True\n",
      " False  True  True False  True False False False False  True  True  True\n",
      "  True False False  True  True False False  True False  True False  True\n",
      "  True False  True False False False False False False  True  True False\n",
      "  True  True False False]\n",
      "No. of true are: 44\n"
     ]
    }
   ],
   "source": [
    "array=np.random.choice([True,False],size=100)\n",
    "print(array)\n",
    "print(\"No. of true are:\",np.sum(array))"
   ]
  },
  {
   "cell_type": "code",
   "execution_count": null,
   "metadata": {},
   "outputs": [],
   "source": [
    "21. Consider the vector [1, 2, 3, 4, 5], how to build a new vector with 3 consecutive zeros interleaved between each value?"
   ]
  },
  {
   "cell_type": "code",
   "execution_count": null,
   "metadata": {},
   "outputs": [],
   "source": [
    "vec = np.array([1, 2, 3, 4, 5])\n",
    " \n",
    "num_zero = 12 \n",
    "#Create array with elements num_zero + len(vec)\n",
    "new_arr = np.zeros(17)\n",
    "new_arr[::4] = vec\n",
    "\n",
    "print('New array is', new_arr, sep='\\n')"
   ]
  },
  {
   "cell_type": "code",
   "execution_count": null,
   "metadata": {},
   "outputs": [],
   "source": []
  },
  {
   "cell_type": "code",
   "execution_count": null,
   "metadata": {},
   "outputs": [],
   "source": []
  },
  {
   "cell_type": "code",
   "execution_count": null,
   "metadata": {},
   "outputs": [],
   "source": []
  }
 ],
 "metadata": {
  "kernelspec": {
   "display_name": "Python 3",
   "language": "python",
   "name": "python3"
  },
  "language_info": {
   "codemirror_mode": {
    "name": "ipython",
    "version": 3
   },
   "file_extension": ".py",
   "mimetype": "text/x-python",
   "name": "python",
   "nbconvert_exporter": "python",
   "pygments_lexer": "ipython3",
   "version": "3.7.4"
  }
 },
 "nbformat": 4,
 "nbformat_minor": 2
}
