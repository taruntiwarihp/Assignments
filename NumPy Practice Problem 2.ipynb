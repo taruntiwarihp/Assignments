{
 "cells": [
  {
   "cell_type": "code",
   "execution_count": 2,
   "metadata": {},
   "outputs": [],
   "source": [
    "import numpy as np"
   ]
  },
  {
   "cell_type": "code",
   "execution_count": null,
   "metadata": {},
   "outputs": [],
   "source": [
    "1.Create an array and find sum of it."
   ]
  },
  {
   "cell_type": "code",
   "execution_count": 9,
   "metadata": {},
   "outputs": [
    {
     "name": "stdout",
     "output_type": "stream",
     "text": [
      "[[5 7 6]\n",
      " [4 8 3]\n",
      " [2 5 5]]\n"
     ]
    },
    {
     "data": {
      "text/plain": [
       "45"
      ]
     },
     "execution_count": 9,
     "metadata": {},
     "output_type": "execute_result"
    }
   ],
   "source": [
    "data=np.random.randint(1,10,(3,3))\n",
    "print(data)\n",
    "data.sum()"
   ]
  },
  {
   "cell_type": "code",
   "execution_count": null,
   "metadata": {},
   "outputs": [],
   "source": [
    "2.Find sin of given array."
   ]
  },
  {
   "cell_type": "code",
   "execution_count": 17,
   "metadata": {},
   "outputs": [
    {
     "data": {
      "text/plain": [
       "array([[ 0.6569866 ,  0.84147098,  0.41211849],\n",
       "       [-0.95892427,  0.6569866 ,  0.90929743],\n",
       "       [ 0.90929743,  0.14112001, -0.2794155 ]])"
      ]
     },
     "execution_count": 17,
     "metadata": {},
     "output_type": "execute_result"
    }
   ],
   "source": [
    "data=np.random.randint(1,10,(3,3))\n",
    "np.sin(data)"
   ]
  },
  {
   "cell_type": "code",
   "execution_count": null,
   "metadata": {},
   "outputs": [],
   "source": [
    "3.Find mean of matrix along row and column."
   ]
  },
  {
   "cell_type": "code",
   "execution_count": 15,
   "metadata": {},
   "outputs": [
    {
     "data": {
      "text/plain": [
       "array([8.        , 3.33333333, 4.66666667])"
      ]
     },
     "execution_count": 15,
     "metadata": {},
     "output_type": "execute_result"
    }
   ],
   "source": [
    "data=np.random.randint(1,10,(3,3))\n",
    "data.mean(axis=1)"
   ]
  },
  {
   "cell_type": "code",
   "execution_count": 16,
   "metadata": {},
   "outputs": [
    {
     "data": {
      "text/plain": [
       "array([5., 6., 5.])"
      ]
     },
     "execution_count": 16,
     "metadata": {},
     "output_type": "execute_result"
    }
   ],
   "source": [
    "data.mean(axis=0)"
   ]
  },
  {
   "cell_type": "code",
   "execution_count": null,
   "metadata": {},
   "outputs": [],
   "source": [
    "4. Find standard deviation of given array."
   ]
  },
  {
   "cell_type": "code",
   "execution_count": 23,
   "metadata": {},
   "outputs": [
    {
     "data": {
      "text/plain": [
       "2.039607805437114"
      ]
     },
     "execution_count": 23,
     "metadata": {},
     "output_type": "execute_result"
    }
   ],
   "source": [
    "arr=np.random.randint(1,10,(1,10))\n",
    "st=np.std(arr)\n",
    "st"
   ]
  },
  {
   "cell_type": "code",
   "execution_count": null,
   "metadata": {},
   "outputs": [],
   "source": [
    "5. Create a 3*3 matrix and print it's transpose matrix"
   ]
  },
  {
   "cell_type": "code",
   "execution_count": 43,
   "metadata": {},
   "outputs": [
    {
     "name": "stdout",
     "output_type": "stream",
     "text": [
      "[[92 33 91]\n",
      " [23 30 36]\n",
      " [13  1 76]]\n",
      "[[92 23 13]\n",
      " [33 30  1]\n",
      " [91 36 76]]\n"
     ]
    }
   ],
   "source": [
    "matrix=np.random.randint(1,100,(3,3))\n",
    "print(matrix)\n",
    "print(matrix.transpose())#T"
   ]
  },
  {
   "cell_type": "code",
   "execution_count": null,
   "metadata": {},
   "outputs": [],
   "source": [
    "6. Create an array of 3*3 and find index of max along both axis."
   ]
  },
  {
   "cell_type": "code",
   "execution_count": 3,
   "metadata": {},
   "outputs": [
    {
     "name": "stdout",
     "output_type": "stream",
     "text": [
      "[[84 61 89]\n",
      " [83 56 51]\n",
      " [ 1 43 45]]\n",
      "[0 0 0]\n",
      "[2 0 2]\n"
     ]
    }
   ],
   "source": [
    "data=np.random.randint(1,100,(3,3))\n",
    "print(data)\n",
    "print(data.argmax(axis=0))\n",
    "print(data.argmax(axis=1))"
   ]
  },
  {
   "cell_type": "code",
   "execution_count": null,
   "metadata": {},
   "outputs": [],
   "source": [
    "7. find sum of two matrix."
   ]
  },
  {
   "cell_type": "code",
   "execution_count": 59,
   "metadata": {},
   "outputs": [
    {
     "name": "stdout",
     "output_type": "stream",
     "text": [
      "[356 337 419]\n"
     ]
    }
   ],
   "source": [
    "matrix1=np.random.randint(1,120,(3,3))\n",
    "matrix2=np.random.randint(1,120,(3,3))\n",
    "sum1=sum(matrix1)\n",
    "sum2=sum(matrix2)\n",
    "print(sum1+sum2)"
   ]
  },
  {
   "cell_type": "code",
   "execution_count": null,
   "metadata": {},
   "outputs": [],
   "source": [
    "8. Find indexes of max element along axis=0 and axis=1."
   ]
  },
  {
   "cell_type": "code",
   "execution_count": 4,
   "metadata": {},
   "outputs": [
    {
     "name": "stdout",
     "output_type": "stream",
     "text": [
      "[[101   3  66]\n",
      " [ 93  27  13]\n",
      " [ 35  23   9]]\n",
      "[101  27  66]\n",
      "[101  93  35]\n"
     ]
    }
   ],
   "source": [
    "arr=np.random.randint(1,120,(3,3))\n",
    "print(arr)\n",
    "print(arr.max(axis=0))#col\n",
    "print(arr.max(axis=1))#row"
   ]
  },
  {
   "cell_type": "code",
   "execution_count": null,
   "metadata": {},
   "outputs": [],
   "source": [
    "9. Write a program to add two arrays of different shape."
   ]
  },
  {
   "cell_type": "code",
   "execution_count": 5,
   "metadata": {},
   "outputs": [
    {
     "data": {
      "text/plain": [
       "array([[ 1.,  2.,  3.],\n",
       "       [11., 12., 13.],\n",
       "       [21., 22., 23.],\n",
       "       [31., 32., 33.]])"
      ]
     },
     "execution_count": 5,
     "metadata": {},
     "output_type": "execute_result"
    }
   ],
   "source": [
    "a = np.array([0.0, 10.0, 20.0, 30.0])\n",
    "b = np.array([1.0, 2.0, 3.0])\n",
    "a[:, np.newaxis]+b"
   ]
  },
  {
   "cell_type": "code",
   "execution_count": null,
   "metadata": {},
   "outputs": [],
   "source": [
    "10. Try to solve a array and print a array with indices which would sort the given array."
   ]
  },
  {
   "cell_type": "code",
   "execution_count": 68,
   "metadata": {},
   "outputs": [
    {
     "name": "stdout",
     "output_type": "stream",
     "text": [
      "[1 3 0 2]\n"
     ]
    }
   ],
   "source": [
    "arr=np.array([3,1,8,2])\n",
    "print(np.argsort(arr))"
   ]
  },
  {
   "cell_type": "code",
   "execution_count": null,
   "metadata": {},
   "outputs": [],
   "source": [
    "11. Try to do perform same operation mentioned in previous questions for multidimentional array along both axis."
   ]
  },
  {
   "cell_type": "code",
   "execution_count": 77,
   "metadata": {},
   "outputs": [
    {
     "name": "stdout",
     "output_type": "stream",
     "text": [
      "[[108  45  70]\n",
      " [  9  36   6]\n",
      " [ 59 110   4]]\n",
      "Column Indices [[1 1 2]\n",
      " [2 0 1]\n",
      " [0 2 0]]\n",
      "Row Indices [[1 2 0]\n",
      " [2 0 1]\n",
      " [2 0 1]]\n"
     ]
    }
   ],
   "source": [
    "arr=np.random.randint(1,111,(3,3))\n",
    "print(arr)\n",
    "print(\"Column Indices\",np.argsort(arr,axis=0))#column\n",
    "print(\"Row Indices\",np.argsort(arr,axis=1))#row"
   ]
  },
  {
   "cell_type": "code",
   "execution_count": null,
   "metadata": {},
   "outputs": [],
   "source": [
    "12. calculate multiplication of transpose and matrix itself of a 3*3 matrix."
   ]
  },
  {
   "cell_type": "code",
   "execution_count": 6,
   "metadata": {},
   "outputs": [
    {
     "name": "stdout",
     "output_type": "stream",
     "text": [
      "original matrix:\n",
      " [[0 9 9]\n",
      " [1 4 6]\n",
      " [6 9 1]]\n",
      "Transpose of a:\n",
      " [[0 1 6]\n",
      " [9 4 9]\n",
      " [9 6 1]]\n",
      "Multiplication:\n",
      " [[ 0  9 54]\n",
      " [ 9 16 54]\n",
      " [54 54  1]]\n"
     ]
    }
   ],
   "source": [
    "a = np.random.randint(10,size=(3,3)) \n",
    "print(\"original matrix:\\n\",a) \n",
    "print(\"Transpose of a:\\n\",a.T) \n",
    "print(\"Multiplication:\\n\",a*a.T)"
   ]
  },
  {
   "cell_type": "code",
   "execution_count": null,
   "metadata": {},
   "outputs": [],
   "source": [
    "13. Find solution for given linear equstion:\n",
    "    #2x + 5y = 28 4x + 3*y = 81"
   ]
  },
  {
   "cell_type": "code",
   "execution_count": 9,
   "metadata": {},
   "outputs": [
    {
     "name": "stdout",
     "output_type": "stream",
     "text": [
      "Solution of linear equations: [22.92857143 -3.57142857]\n"
     ]
    }
   ],
   "source": [
    "a=np.array([[2,5],[4,3]])\n",
    "b=np.array([28,81])\n",
    "print(\"Solution of linear equations:\",np.linalg.solve(a,b))"
   ]
  },
  {
   "cell_type": "code",
   "execution_count": null,
   "metadata": {},
   "outputs": [],
   "source": [
    "14. Find Rank, Trace, Inverse, Determinant of a given matrix.\n",
    "#     A=[[1, 1, 1], [2, 2, 2], [3, 3, 3]])"
   ]
  },
  {
   "cell_type": "code",
   "execution_count": 10,
   "metadata": {},
   "outputs": [
    {
     "name": "stdout",
     "output_type": "stream",
     "text": [
      "Rank:\n",
      " 3\n",
      "Trace:\n",
      " 8\n",
      "Determinant:\n",
      " 108.00000000000003\n",
      "Inverse:\n",
      " [[-0.12962963 -0.01851852  0.18518519]\n",
      " [ 0.10185185 -0.34259259  0.42592593]\n",
      " [ 0.12037037  0.23148148 -0.31481481]]\n"
     ]
    }
   ],
   "source": [
    "A=[[1,4,6],[9,2,8],[7,3,5]]\n",
    "print(\"Rank:\\n\",np.linalg.matrix_rank(A))\n",
    "print(\"Trace:\\n\",np.trace(A))\n",
    "print(\"Determinant:\\n\",np.linalg.det(A))\n",
    "print(\"Inverse:\\n\",np.linalg.inv(A))"
   ]
  },
  {
   "cell_type": "code",
   "execution_count": null,
   "metadata": {},
   "outputs": [],
   "source": [
    "15. Find cube of a mtrix."
   ]
  },
  {
   "cell_type": "code",
   "execution_count": 12,
   "metadata": {},
   "outputs": [
    {
     "data": {
      "text/plain": [
       "array([[ 635158, 1055810, 1190178],\n",
       "       [ 634612, 1310449, 1294078],\n",
       "       [ 758166, 1343833, 1335180]])"
      ]
     },
     "execution_count": 12,
     "metadata": {},
     "output_type": "execute_result"
    }
   ],
   "source": [
    "matrix=np.random.randint(1,99,(3,3))\n",
    "np.linalg.matrix_power(matrix,3)"
   ]
  }
 ],
 "metadata": {
  "kernelspec": {
   "display_name": "Python 3",
   "language": "python",
   "name": "python3"
  },
  "language_info": {
   "codemirror_mode": {
    "name": "ipython",
    "version": 3
   },
   "file_extension": ".py",
   "mimetype": "text/x-python",
   "name": "python",
   "nbconvert_exporter": "python",
   "pygments_lexer": "ipython3",
   "version": "3.7.4"
  }
 },
 "nbformat": 4,
 "nbformat_minor": 2
}
