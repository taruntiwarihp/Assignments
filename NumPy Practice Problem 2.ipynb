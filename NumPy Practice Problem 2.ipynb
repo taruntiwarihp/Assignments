{
 "cells": [
  {
   "cell_type": "code",
   "execution_count": 3,
   "metadata": {},
   "outputs": [],
   "source": [
    "import numpy as np"
   ]
  },
  {
   "cell_type": "code",
   "execution_count": null,
   "metadata": {},
   "outputs": [],
   "source": [
    "1.Create an array and find sum of it."
   ]
  },
  {
   "cell_type": "code",
   "execution_count": 9,
   "metadata": {},
   "outputs": [
    {
     "name": "stdout",
     "output_type": "stream",
     "text": [
      "[[5 7 6]\n",
      " [4 8 3]\n",
      " [2 5 5]]\n"
     ]
    },
    {
     "data": {
      "text/plain": [
       "45"
      ]
     },
     "execution_count": 9,
     "metadata": {},
     "output_type": "execute_result"
    }
   ],
   "source": [
    "data=np.random.randint(1,10,(3,3))\n",
    "print(data)\n",
    "data.sum()"
   ]
  },
  {
   "cell_type": "code",
   "execution_count": null,
   "metadata": {},
   "outputs": [],
   "source": [
    "2.Find sin of given array."
   ]
  },
  {
   "cell_type": "code",
   "execution_count": 17,
   "metadata": {},
   "outputs": [
    {
     "data": {
      "text/plain": [
       "array([[ 0.6569866 ,  0.84147098,  0.41211849],\n",
       "       [-0.95892427,  0.6569866 ,  0.90929743],\n",
       "       [ 0.90929743,  0.14112001, -0.2794155 ]])"
      ]
     },
     "execution_count": 17,
     "metadata": {},
     "output_type": "execute_result"
    }
   ],
   "source": [
    "data=np.random.randint(1,10,(3,3))\n",
    "np.sin(data)"
   ]
  },
  {
   "cell_type": "code",
   "execution_count": null,
   "metadata": {},
   "outputs": [],
   "source": [
    "3.Find mean of matrix along row and column."
   ]
  },
  {
   "cell_type": "code",
   "execution_count": 15,
   "metadata": {},
   "outputs": [
    {
     "data": {
      "text/plain": [
       "array([8.        , 3.33333333, 4.66666667])"
      ]
     },
     "execution_count": 15,
     "metadata": {},
     "output_type": "execute_result"
    }
   ],
   "source": [
    "data=np.random.randint(1,10,(3,3))\n",
    "data.mean(axis=1)"
   ]
  },
  {
   "cell_type": "code",
   "execution_count": 16,
   "metadata": {},
   "outputs": [
    {
     "data": {
      "text/plain": [
       "array([5., 6., 5.])"
      ]
     },
     "execution_count": 16,
     "metadata": {},
     "output_type": "execute_result"
    }
   ],
   "source": [
    "data.mean(axis=0)"
   ]
  },
  {
   "cell_type": "code",
   "execution_count": null,
   "metadata": {},
   "outputs": [],
   "source": [
    "4. Find standard deviation of given array."
   ]
  },
  {
   "cell_type": "code",
   "execution_count": 23,
   "metadata": {},
   "outputs": [
    {
     "data": {
      "text/plain": [
       "2.039607805437114"
      ]
     },
     "execution_count": 23,
     "metadata": {},
     "output_type": "execute_result"
    }
   ],
   "source": [
    "arr=np.random.randint(1,10,(1,10))\n",
    "st=np.std(arr)\n",
    "st"
   ]
  },
  {
   "cell_type": "code",
   "execution_count": null,
   "metadata": {},
   "outputs": [],
   "source": [
    "5. Create a 3*3 matrix and print it's transpose matrix"
   ]
  },
  {
   "cell_type": "code",
   "execution_count": 43,
   "metadata": {},
   "outputs": [
    {
     "name": "stdout",
     "output_type": "stream",
     "text": [
      "[[92 33 91]\n",
      " [23 30 36]\n",
      " [13  1 76]]\n",
      "[[92 23 13]\n",
      " [33 30  1]\n",
      " [91 36 76]]\n"
     ]
    }
   ],
   "source": [
    "matrix=np.random.randint(1,100,(3,3))\n",
    "print(matrix)\n",
    "print(matrix.transpose())"
   ]
  },
  {
   "cell_type": "code",
   "execution_count": null,
   "metadata": {},
   "outputs": [],
   "source": [
    "6. Create an array of 3*3 and find index of max along both axis."
   ]
  },
  {
   "cell_type": "code",
   "execution_count": 54,
   "metadata": {},
   "outputs": [
    {
     "name": "stdout",
     "output_type": "stream",
     "text": [
      "[[37 21 66]\n",
      " [52 22 39]\n",
      " [58 58 44]]\n",
      "(array([0], dtype=int64), array([2], dtype=int64))\n"
     ]
    }
   ],
   "source": [
    "data=np.random.randint(1,100,(3,3))\n",
    "print(data)\n",
    "print(np.where(data == data.max()))"
   ]
  },
  {
   "cell_type": "code",
   "execution_count": null,
   "metadata": {},
   "outputs": [],
   "source": [
    "7. find sum of two matrix."
   ]
  },
  {
   "cell_type": "code",
   "execution_count": 59,
   "metadata": {},
   "outputs": [
    {
     "name": "stdout",
     "output_type": "stream",
     "text": [
      "[356 337 419]\n"
     ]
    }
   ],
   "source": [
    "matrix1=np.random.randint(1,120,(3,3))\n",
    "matrix2=np.random.randint(1,120,(3,3))\n",
    "sum1=sum(matrix1)\n",
    "sum2=sum(matrix2)\n",
    "print(sum1+sum2)"
   ]
  },
  {
   "cell_type": "code",
   "execution_count": null,
   "metadata": {},
   "outputs": [],
   "source": [
    "8. Find indexes of max element along axis=0 and axis=1."
   ]
  },
  {
   "cell_type": "code",
   "execution_count": 64,
   "metadata": {},
   "outputs": [
    {
     "name": "stdout",
     "output_type": "stream",
     "text": [
      "[[106  81  46]\n",
      " [ 61  97  17]\n",
      " [ 95  41  83]]\n",
      "[0 1 2]\n",
      "[0 1 0]\n"
     ]
    }
   ],
   "source": [
    "arr=np.random.randint(1,120,(3,3))\n",
    "print(arr)\n",
    "print(np.argmax(arr,axis=0))#col\n",
    "print(np.argmax(arr,axis=1))#row"
   ]
  },
  {
   "cell_type": "code",
   "execution_count": null,
   "metadata": {},
   "outputs": [],
   "source": [
    "9. Write a program to add two arrays of different shape."
   ]
  },
  {
   "cell_type": "code",
   "execution_count": null,
   "metadata": {},
   "outputs": [],
   "source": []
  },
  {
   "cell_type": "code",
   "execution_count": null,
   "metadata": {},
   "outputs": [],
   "source": [
    "10. Try to solve a array and print a array with indices which would sort the given array."
   ]
  },
  {
   "cell_type": "code",
   "execution_count": 68,
   "metadata": {},
   "outputs": [
    {
     "name": "stdout",
     "output_type": "stream",
     "text": [
      "[1 3 0 2]\n"
     ]
    }
   ],
   "source": [
    "arr=np.array([3,1,8,2])\n",
    "print(np.argsort(arr))"
   ]
  },
  {
   "cell_type": "code",
   "execution_count": null,
   "metadata": {},
   "outputs": [],
   "source": [
    "11. Try to do perform same operation mentioned in previous questions for multidimentional array along both axis."
   ]
  },
  {
   "cell_type": "code",
   "execution_count": 77,
   "metadata": {},
   "outputs": [
    {
     "name": "stdout",
     "output_type": "stream",
     "text": [
      "[[108  45  70]\n",
      " [  9  36   6]\n",
      " [ 59 110   4]]\n",
      "Column Indices [[1 1 2]\n",
      " [2 0 1]\n",
      " [0 2 0]]\n",
      "Row Indices [[1 2 0]\n",
      " [2 0 1]\n",
      " [2 0 1]]\n"
     ]
    }
   ],
   "source": [
    "arr=np.random.randint(1,111,(3,3))\n",
    "print(arr)\n",
    "print(\"Column Indices\",np.argsort(arr,axis=0))#column\n",
    "print(\"Row Indices\",np.argsort(arr,axis=1))#row"
   ]
  },
  {
   "cell_type": "code",
   "execution_count": null,
   "metadata": {},
   "outputs": [],
   "source": [
    "12. calculate multiplication of transpose and matrix itself of a 3*3 matrix."
   ]
  },
  {
   "cell_type": "code",
   "execution_count": 79,
   "metadata": {},
   "outputs": [
    {
     "name": "stdout",
     "output_type": "stream",
     "text": [
      "[[89 63 74]\n",
      " [86 61 85]\n",
      " [67 62 13]]\n",
      "[[12530 14190  9961]\n",
      " [12688 14413 10979]\n",
      " [ 9242 10049  3738]]\n"
     ]
    }
   ],
   "source": [
    "matrix=np.random.randint(1,99,(3,3))\n",
    "print(matrix)\n",
    "maxtrix1=matrix.transpose()\n",
    "print(matrix1)\n",
    "print(matrix.dot(matrix1))"
   ]
  },
  {
   "cell_type": "code",
   "execution_count": null,
   "metadata": {},
   "outputs": [],
   "source": [
    "15. Find cube of a mtrix."
   ]
  },
  {
   "cell_type": "code",
   "execution_count": 82,
   "metadata": {},
   "outputs": [
    {
     "name": "stdout",
     "output_type": "stream",
     "text": [
      "[[ 3 98 65]\n",
      " [59 36 28]\n",
      " [30 44 73]]\n",
      "[[1.44224957 4.61043629 4.02072576]\n",
      " [3.89299642 3.30192725 3.03658897]\n",
      " [3.10723251 3.53034834 4.1793392 ]]\n"
     ]
    }
   ],
   "source": [
    "matrix=np.random.randint(1,99,(3,3))\n",
    "print(matrix)\n",
    "print(np.cbrt(matrix))"
   ]
  },
  {
   "cell_type": "code",
   "execution_count": null,
   "metadata": {},
   "outputs": [],
   "source": []
  }
 ],
 "metadata": {
  "kernelspec": {
   "display_name": "Python 3",
   "language": "python",
   "name": "python3"
  },
  "language_info": {
   "codemirror_mode": {
    "name": "ipython",
    "version": 3
   },
   "file_extension": ".py",
   "mimetype": "text/x-python",
   "name": "python",
   "nbconvert_exporter": "python",
   "pygments_lexer": "ipython3",
   "version": "3.7.4"
  }
 },
 "nbformat": 4,
 "nbformat_minor": 2
}
