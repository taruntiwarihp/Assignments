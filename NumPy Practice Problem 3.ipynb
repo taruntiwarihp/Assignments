{
 "cells": [
  {
   "cell_type": "code",
   "execution_count": 1,
   "metadata": {},
   "outputs": [],
   "source": [
    "import numpy as np"
   ]
  },
  {
   "cell_type": "code",
   "execution_count": null,
   "metadata": {},
   "outputs": [],
   "source": [
    "1. Find dot product of two arrays.\n",
    "a = [2j, 3j]\n",
    "b = [2j, 3j]"
   ]
  },
  {
   "cell_type": "code",
   "execution_count": 3,
   "metadata": {},
   "outputs": [
    {
     "data": {
      "text/plain": [
       "(-13+0j)"
      ]
     },
     "execution_count": 3,
     "metadata": {},
     "output_type": "execute_result"
    }
   ],
   "source": [
    "a=np.array([2j,3j])\n",
    "b=np.array([2j,3j])\n",
    "a.dot(b)"
   ]
  },
  {
   "cell_type": "code",
   "execution_count": null,
   "metadata": {},
   "outputs": [],
   "source": [
    "2. Create two arrays of 2-D and find dot product of it."
   ]
  },
  {
   "cell_type": "code",
   "execution_count": 9,
   "metadata": {},
   "outputs": [
    {
     "name": "stdout",
     "output_type": "stream",
     "text": [
      "[[24 75 80]\n",
      " [83 49 53]\n",
      " [33 35  0]]\n",
      "[[24 75 80]\n",
      " [83 49 53]\n",
      " [33 35  0]]\n"
     ]
    },
    {
     "data": {
      "text/plain": [
       "array([[12519,  7949,  7591],\n",
       "       [14336,  6302,  6262],\n",
       "       [ 6258,  2453,  2762]])"
      ]
     },
     "execution_count": 9,
     "metadata": {},
     "output_type": "execute_result"
    }
   ],
   "source": [
    "a=np.random.randint(100,size=(3,3))\n",
    "b=np.random.randint(100,size=(3,3))\n",
    "print(a)\n",
    "print(a)\n",
    "a.dot(b)"
   ]
  },
  {
   "cell_type": "code",
   "execution_count": null,
   "metadata": {},
   "outputs": [],
   "source": [
    "3. Find vector product of given array.\n",
    "a = np.array([1+2j,3+4j])\n",
    "b = np.array([5+6j,7+8j])"
   ]
  },
  {
   "cell_type": "code",
   "execution_count": 7,
   "metadata": {},
   "outputs": [
    {
     "name": "stdout",
     "output_type": "stream",
     "text": [
      "-16j\n",
      "(70-8j)\n"
     ]
    }
   ],
   "source": [
    "a=np.array([1+2j,3+4j])\n",
    "b=np.array([5+6j,7+8j])\n",
    "\n",
    "print(np.cross(a,b))\n",
    "print(np.vdot(a,b))"
   ]
  },
  {
   "cell_type": "code",
   "execution_count": null,
   "metadata": {},
   "outputs": [],
   "source": [
    "4.First create given array without using direct value insted use numpy utlities and then find inner product for given array.\n",
    "a = [[ 0 1 2 3] [ 4 5 6 7] [ 8 9 10 11]]\n",
    "b = [[12 13 14 15] [16 17 18 19] [20 21 22 23]]"
   ]
  },
  {
   "cell_type": "code",
   "execution_count": 14,
   "metadata": {},
   "outputs": [
    {
     "name": "stdout",
     "output_type": "stream",
     "text": [
      "[[ 0.  1.  2.]\n",
      " [ 3.  4.  5.]\n",
      " [ 6.  7.  8.]\n",
      " [ 9. 10. 11.]]\n",
      "[[12. 13. 14.]\n",
      " [15. 16. 17.]\n",
      " [18. 19. 20.]\n",
      " [21. 22. 23.]]\n",
      "[[ 41.  50.  59.  68.]\n",
      " [158. 194. 230. 266.]\n",
      " [275. 338. 401. 464.]\n",
      " [392. 482. 572. 662.]]\n"
     ]
    }
   ],
   "source": [
    "a=np.linspace(0,11,12)\n",
    "b=np.linspace(12,23,12)\n",
    "a=a.reshape(4,3)\n",
    "b=b.reshape(4,3)\n",
    "print(a)\n",
    "print(b)\n",
    "print(np.inner(a,b))"
   ]
  },
  {
   "cell_type": "code",
   "execution_count": null,
   "metadata": {},
   "outputs": [],
   "source": [
    "5. Using given two array try to print out 3rd given array.\n",
    "a = np.array(['a', 'b', 'c'], dtype=object) b = np.array([1,2,3])\n",
    "output = [['a', 'aa', 'aaa'], ['b', 'bb', 'bbb'], ['c', 'cc', 'ccc']]"
   ]
  },
  {
   "cell_type": "code",
   "execution_count": 17,
   "metadata": {},
   "outputs": [
    {
     "data": {
      "text/plain": [
       "array([['a', 'aa', 'aaa'],\n",
       "       ['b', 'bb', 'bbb'],\n",
       "       ['c', 'cc', 'ccc']], dtype=object)"
      ]
     },
     "execution_count": 17,
     "metadata": {},
     "output_type": "execute_result"
    }
   ],
   "source": [
    "a=np.array(['a','b','c'],dtype=object)\n",
    "b=np.array([1,2,3])\n",
    "c=np.multiply(a,b)\n",
    "c=a.reshape(3,1)*b.reshape(1,3)\n",
    "c"
   ]
  },
  {
   "cell_type": "code",
   "execution_count": null,
   "metadata": {},
   "outputs": [],
   "source": [
    "6. Solve the system of equations 3 x0 + x1 = 9 and x0 + 2 x1 = 8"
   ]
  },
  {
   "cell_type": "code",
   "execution_count": 20,
   "metadata": {},
   "outputs": [
    {
     "data": {
      "text/plain": [
       "array([2., 3.])"
      ]
     },
     "execution_count": 20,
     "metadata": {},
     "output_type": "execute_result"
    }
   ],
   "source": [
    "a=np.array([[3,1],[1,2]])\n",
    "b=np.array([9,8])\n",
    "np.linalg.solve(a,b)"
   ]
  },
  {
   "cell_type": "code",
   "execution_count": null,
   "metadata": {},
   "outputs": [],
   "source": [
    "7. Check the following solution is right or wrong uisng numpy utilities.\n",
    "2x+3y=8 3x+y=5\n",
    "solution: x=1 , y=2"
   ]
  },
  {
   "cell_type": "code",
   "execution_count": 21,
   "metadata": {},
   "outputs": [
    {
     "data": {
      "text/plain": [
       "array([1., 2.])"
      ]
     },
     "execution_count": 21,
     "metadata": {},
     "output_type": "execute_result"
    }
   ],
   "source": [
    "a=np.array([[2,3],[3,1]])\n",
    "b=np.array([8,5])\n",
    "np.linalg.solve(a,b)"
   ]
  },
  {
   "cell_type": "code",
   "execution_count": null,
   "metadata": {},
   "outputs": [],
   "source": [
    "9. Write a program to add two arrays of different shape\n",
    "a=[0.0,10.0,20.0,30.0]\n",
    "b=[1.0,2.0,3.0]\n",
    "output:\n",
    "[[ 1., 2., 3.],\n",
    "\n",
    "[ 11., 12., 13.],\n",
    "\n",
    "[ 21., 22., 23.],\n",
    "\n",
    "[ 31., 32., 33.]]"
   ]
  },
  {
   "cell_type": "code",
   "execution_count": 26,
   "metadata": {},
   "outputs": [
    {
     "name": "stdout",
     "output_type": "stream",
     "text": [
      "[ 0. 10. 20. 30.] \n",
      " [1. 2. 3.]\n"
     ]
    },
    {
     "data": {
      "text/plain": [
       "array([[ 1.,  2.,  3.],\n",
       "       [11., 12., 13.],\n",
       "       [21., 22., 23.],\n",
       "       [31., 32., 33.]])"
      ]
     },
     "execution_count": 26,
     "metadata": {},
     "output_type": "execute_result"
    }
   ],
   "source": [
    "a=np.array([0.,10.,20.,30.])\n",
    "b=np.array([1.,2.,3.,])\n",
    "print(a,\"\\n\",b)\n",
    "a.reshape(4,1)+b.reshape(1,3)"
   ]
  },
  {
   "cell_type": "code",
   "execution_count": null,
   "metadata": {},
   "outputs": [],
   "source": [
    "10. Create a 3 * 3 array find it's diagonal using numpy utilities."
   ]
  },
  {
   "cell_type": "code",
   "execution_count": 30,
   "metadata": {},
   "outputs": [
    {
     "name": "stdout",
     "output_type": "stream",
     "text": [
      "[[ 0  5  0]\n",
      " [17 10  4]\n",
      " [ 9  7  4]]\n"
     ]
    },
    {
     "data": {
      "text/plain": [
       "array([ 0, 10,  4])"
      ]
     },
     "execution_count": 30,
     "metadata": {},
     "output_type": "execute_result"
    }
   ],
   "source": [
    "n=np.random.randint(20,size=(3,3))\n",
    "print(n)\n",
    "np.diagonal(n)"
   ]
  },
  {
   "cell_type": "code",
   "execution_count": null,
   "metadata": {},
   "outputs": [],
   "source": [
    "11. Now find anti - diagonal in previous question using horizontal and vector flip."
   ]
  },
  {
   "cell_type": "code",
   "execution_count": 35,
   "metadata": {},
   "outputs": [
    {
     "name": "stdout",
     "output_type": "stream",
     "text": [
      "n: [[ 0  5  0]\n",
      " [17 10  4]\n",
      " [ 9  7  4]]\n",
      "1 [ 0 10  9]\n",
      "2 [ 9 10  0]\n"
     ]
    }
   ],
   "source": [
    "print(\"n:\",n)\n",
    "print(\"1\",np.fliplr(n).diagonal())\n",
    "print(\"2\",np.flipud(n).diagonal())"
   ]
  },
  {
   "cell_type": "code",
   "execution_count": null,
   "metadata": {},
   "outputs": [],
   "source": [
    "12. Create given array without using indexing.\n",
    "a = [[4, 0, 0], [0, 4, 0], [0, 0, 4], [0, 0, 0], [4, 0, 0], [0, 4, 0], [0, 0, 4]]"
   ]
  },
  {
   "cell_type": "code",
   "execution_count": 39,
   "metadata": {},
   "outputs": [
    {
     "data": {
      "text/plain": [
       "array([[4., 0., 0.],\n",
       "       [0., 4., 0.],\n",
       "       [0., 0., 4.]])"
      ]
     },
     "execution_count": 39,
     "metadata": {},
     "output_type": "execute_result"
    }
   ],
   "source": [
    "a=np.identity(3)*4\n",
    "a"
   ]
  },
  {
   "cell_type": "code",
   "execution_count": 38,
   "metadata": {},
   "outputs": [
    {
     "data": {
      "text/plain": [
       "array([0., 0., 0.])"
      ]
     },
     "execution_count": 38,
     "metadata": {},
     "output_type": "execute_result"
    }
   ],
   "source": [
    "null=np.zeros(3)\n",
    "null"
   ]
  },
  {
   "cell_type": "code",
   "execution_count": 40,
   "metadata": {},
   "outputs": [
    {
     "data": {
      "text/plain": [
       "array([[4., 0., 0.],\n",
       "       [0., 4., 0.],\n",
       "       [0., 0., 4.],\n",
       "       [0., 0., 0.],\n",
       "       [4., 0., 0.],\n",
       "       [0., 4., 0.],\n",
       "       [0., 0., 4.]])"
      ]
     },
     "execution_count": 40,
     "metadata": {},
     "output_type": "execute_result"
    }
   ],
   "source": [
    "np.vstack([a,null,a])"
   ]
  }
 ],
 "metadata": {
  "kernelspec": {
   "display_name": "Python 3",
   "language": "python",
   "name": "python3"
  },
  "language_info": {
   "codemirror_mode": {
    "name": "ipython",
    "version": 3
   },
   "file_extension": ".py",
   "mimetype": "text/x-python",
   "name": "python",
   "nbconvert_exporter": "python",
   "pygments_lexer": "ipython3",
   "version": "3.7.4"
  }
 },
 "nbformat": 4,
 "nbformat_minor": 2
}
